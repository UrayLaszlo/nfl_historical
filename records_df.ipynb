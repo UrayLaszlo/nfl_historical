{
  "nbformat": 4,
  "nbformat_minor": 0,
  "metadata": {
    "colab": {
      "provenance": []
    },
    "kernelspec": {
      "name": "python3",
      "display_name": "Python 3"
    },
    "language_info": {
      "name": "python"
    }
  },
  "cells": [
    {
      "cell_type": "markdown",
      "source": [
        "# Create new DFs from enhanced DF\n"
      ],
      "metadata": {
        "id": "0Z2M1HO5yQOr"
      }
    },
    {
      "cell_type": "markdown",
      "source": [
        "df_regular_season_records: Create new df with regular season records\n",
        "\n",
        "df_playoff_records: Create new df with playoff records"
      ],
      "metadata": {
        "id": "J_fBhU2Uv0Mn"
      }
    },
    {
      "cell_type": "code",
      "execution_count": 1,
      "metadata": {
        "id": "wDjyBcegvzXP"
      },
      "outputs": [],
      "source": [
        "import pandas as pd\n",
        "import numpy as np\n",
        "import seaborn as sns\n",
        "import matplotlib.pyplot as plt\n",
        "\n",
        "df = pd.read_csv('enhanced_scores1.csv')"
      ]
    },
    {
      "cell_type": "code",
      "execution_count": 2,
      "metadata": {
        "colab": {
          "base_uri": "https://localhost:8080/"
        },
        "id": "MqedWp2bcR2e",
        "outputId": "82c146a5-b6c8-4391-f055-ca7bc3a88f73"
      },
      "outputs": [
        {
          "output_type": "stream",
          "name": "stderr",
          "text": [
            "<ipython-input-2-24505f341a23>:8: SettingWithCopyWarning: \n",
            "A value is trying to be set on a copy of a slice from a DataFrame.\n",
            "Try using .loc[row_indexer,col_indexer] = value instead\n",
            "\n",
            "See the caveats in the documentation: https://pandas.pydata.org/pandas-docs/stable/user_guide/indexing.html#returning-a-view-versus-a-copy\n",
            "  df_filtered['home_win'] = df_filtered['score_home'] > df_filtered['score_away']\n",
            "<ipython-input-2-24505f341a23>:9: SettingWithCopyWarning: \n",
            "A value is trying to be set on a copy of a slice from a DataFrame.\n",
            "Try using .loc[row_indexer,col_indexer] = value instead\n",
            "\n",
            "See the caveats in the documentation: https://pandas.pydata.org/pandas-docs/stable/user_guide/indexing.html#returning-a-view-versus-a-copy\n",
            "  df_filtered['away_win'] = df_filtered['score_away'] > df_filtered['score_home']\n",
            "<ipython-input-2-24505f341a23>:10: SettingWithCopyWarning: \n",
            "A value is trying to be set on a copy of a slice from a DataFrame.\n",
            "Try using .loc[row_indexer,col_indexer] = value instead\n",
            "\n",
            "See the caveats in the documentation: https://pandas.pydata.org/pandas-docs/stable/user_guide/indexing.html#returning-a-view-versus-a-copy\n",
            "  df_filtered['tie'] = df_filtered['score_home'] == df_filtered['score_away']\n"
          ]
        },
        {
          "output_type": "execute_result",
          "data": {
            "text/plain": [
              "(      Season                   Team  Wins  Losses  Ties\n",
              " 0       1966         Miami Dolphins     3      11     0\n",
              " 1       1966        Oakland Raiders     8       5     1\n",
              " 2       1966         Houston Oilers     3      11     0\n",
              " 3       1966         Denver Broncos     4      10     0\n",
              " 4       1966     San Diego Chargers     7       6     1\n",
              " ...      ...                    ...   ...     ...   ...\n",
              " 1737    2024         Denver Broncos    10       7     0\n",
              " 1738    2024   Tampa Bay Buccaneers    10       7     0\n",
              " 1739    2024  Washington Commanders    12       5     0\n",
              " 1740    2024    San Francisco 49ers     6      11     0\n",
              " 1741    2024          New York Jets     5      12     0\n",
              " \n",
              " [1742 rows x 5 columns],\n",
              "      Season                  Team  Wins  Losses  Ties\n",
              " 0      1966         Buffalo Bills     0       1     0\n",
              " 1      1966    Kansas City Chiefs     1       1     0\n",
              " 2      1966        Dallas Cowboys     0       1     0\n",
              " 3      1966     Green Bay Packers     2       0     0\n",
              " 4      1967     Green Bay Packers     3       0     0\n",
              " ..      ...                   ...   ...     ...   ...\n",
              " 626    2023   Pittsburgh Steelers     0       1     0\n",
              " 627    2023  Tampa Bay Buccaneers     1       1     0\n",
              " 628    2023   Philadelphia Eagles     0       1     0\n",
              " 629    2023      Baltimore Ravens     1       1     0\n",
              " 630    2023   San Francisco 49ers     2       1     0\n",
              " \n",
              " [631 rows x 5 columns])"
            ]
          },
          "metadata": {},
          "execution_count": 2
        }
      ],
      "source": [
        "# Create season records dfs\n",
        "# Extract relevant columns\n",
        "columns_needed = ['schedule_season', 'schedule_week', 'schedule_playoff', 'team_home', 'score_home', 'team_away', 'score_away']\n",
        "\n",
        "df_filtered = df[columns_needed]\n",
        "\n",
        "# Add win/loss/tie records for home and away teams\n",
        "df_filtered['home_win'] = df_filtered['score_home'] > df_filtered['score_away']\n",
        "df_filtered['away_win'] = df_filtered['score_away'] > df_filtered['score_home']\n",
        "df_filtered['tie'] = df_filtered['score_home'] == df_filtered['score_away']\n",
        "\n",
        "# Split into regular season and playoffs\n",
        "df_regular_season = df_filtered[df_filtered['schedule_playoff'] == False]\n",
        "df_playoffs = df_filtered[df_filtered['schedule_playoff'] == True]\n",
        "\n",
        "# Function to calculate records (Wins, Losses, Ties)\n",
        "def calculate_team_records(df):\n",
        "    team_records = {}\n",
        "\n",
        "    for _, row in df.iterrows():\n",
        "        season = row['schedule_season']\n",
        "        for team, win, tie in [\n",
        "            (row['team_home'], row['home_win'], row['tie']),\n",
        "            (row['team_away'], row['away_win'], row['tie'])\n",
        "        ]:\n",
        "            if (season, team) not in team_records:\n",
        "                team_records[(season, team)] = {'Wins': 0, 'Losses': 0, 'Ties': 0}\n",
        "\n",
        "            if tie:\n",
        "                team_records[(season, team)]['Ties'] += 1\n",
        "            elif win:\n",
        "                team_records[(season, team)]['Wins'] += 1\n",
        "            else:\n",
        "                team_records[(season, team)]['Losses'] += 1\n",
        "\n",
        "    records_df = pd.DataFrame([\n",
        "        (season, team, rec['Wins'], rec['Losses'], rec['Ties'])\n",
        "        for (season, team), rec in team_records.items()\n",
        "    ], columns=['Season', 'Team', 'Wins', 'Losses', 'Ties'])\n",
        "\n",
        "    return records_df\n",
        "\n",
        "# Compute records\n",
        "df_regular_season_records = calculate_team_records(df_regular_season)\n",
        "df_playoff_records = calculate_team_records(df_playoffs)\n",
        "\n",
        "df_regular_season_records, df_playoff_records"
      ]
    },
    {
      "cell_type": "code",
      "source": [
        "#df_regular_season_records.to_csv(\"df_regular_season_records1.csv\", index=False)\n",
        "#df_playoff_records.to_csv(\"df_playoff_records1.csv\", index=False)"
      ],
      "metadata": {
        "id": "agQpVGJBywPb"
      },
      "execution_count": null,
      "outputs": []
    }
  ]
}